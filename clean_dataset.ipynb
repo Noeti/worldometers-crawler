{
 "metadata": {
  "language_info": {
   "codemirror_mode": {
    "name": "ipython",
    "version": 3
   },
   "file_extension": ".py",
   "mimetype": "text/x-python",
   "name": "python",
   "nbconvert_exporter": "python",
   "pygments_lexer": "ipython3",
   "version": "3.7.10"
  },
  "orig_nbformat": 4,
  "kernelspec": {
   "name": "python3",
   "display_name": "Python 3.7.10 64-bit ('virtual_workspace': conda)"
  },
  "interpreter": {
   "hash": "8eed2500a39ed8f0c1a9fed7dce8b63333725dad2e0135797efc1f4896ca33d3"
  }
 },
 "nbformat": 4,
 "nbformat_minor": 2,
 "cells": [
  {
   "cell_type": "code",
   "execution_count": 1,
   "metadata": {},
   "outputs": [],
   "source": [
    "import os\n",
    "import json\n",
    "import pandas as pd\n",
    "from functools import reduce"
   ]
  },
  {
   "cell_type": "code",
   "execution_count": 2,
   "metadata": {},
   "outputs": [],
   "source": [
    "def unpack_dict(data):\n",
    "    L = []\n",
    "    for x in data:\n",
    "        d = {}\n",
    "        for k,v in x.items():\n",
    "            if k == 'values':\n",
    "                for k2,v2 in v.items():\n",
    "                    d[k2] = v2\n",
    "            else:\n",
    "                d[k] = v    \n",
    "        L.append(d)\n",
    "    return L\n",
    "\n",
    "if __name__ == '__main__':\n",
    "    path = os.getcwd()\n",
    "    frames =[]\n",
    "    for files in os.listdir(path):\n",
    "        if '.json' in files:\n",
    "            with open(path + '/' + files) as json_data:\n",
    "                data = json.load(json_data)\n",
    "                if any(x in files for x in ['energy', 'co2']):\n",
    "                    df = pd.DataFrame(data)\n",
    "                    frames.append(df)\n",
    "                else:\n",
    "                    df = pd.DataFrame(unpack_dict(data))\n",
    "                    col_names = [col_name for col_name in df.columns if col_name not in ['name', 'units', 'year']]\n",
    "                    df[col_names] = df[col_names].apply(pd.to_numeric, errors='coerce')\n",
    "                    new_col_name = f'{files.split(\"_\")[0]}_{df.filter(regex=\"(deficit$)\",axis=1).columns[0]}/surplus'\n",
    "                    deficit = df.filter(regex='(deficit$)',axis=1).columns[0]\n",
    "                    surplus = df.filter(regex='(surplus$)+',axis=1).columns[0]\n",
    "                    df[new_col_name] = df[[deficit, surplus]].sum(axis=1)\n",
    "                    df.drop([deficit, surplus], axis = 1, inplace=True)\n",
    "                    df = df.rename(columns = { col : files.split(\"_\")[0] + '_' + col for col in ['net_imports', 'year', 'units', 'net_exports']})\n",
    "                    frames.append(df)\n",
    "\n",
    "    df_merged = reduce(lambda  left,right: pd.merge(left,right,on=['name'],\n",
    "                                                how='outer'), frames)\n"
   ]
  },
  {
   "cell_type": "code",
   "execution_count": 3,
   "metadata": {},
   "outputs": [],
   "source": [
    "column_names = ['name', 'energy_consumption_btu', 'world_share','pc_yearly_btu', 'non_renewable', 'oil_consump', 'gas_consump','coal_consump', 're_nuclear', 'co2_emissions_tons_2016', 'co2_emiss_one_year_change', 'population_2016', 'co2_emiss_per_capita','country_share_of_world_co2','coal_reserves', 'coal_production', 'coal_consumption',\n",
    "       'coal_imports', 'coal_exports', 'coal_net_imports', 'coal_year',\n",
    "       'coal_units', 'coal_net_exports', 'coal_yearly_deficit/surplus',\n",
    "       'gas_reserves', 'gas_production', 'gas_consumption', 'gas_imports',\n",
    "       'gas_exports', 'gas_net_imports', 'gas_year', 'gas_units',\n",
    "       'gas_net_exports', 'gas_yearly_deficit/surplus', 'oil_reserves',\n",
    "       'oil_production', 'oil_consumption', 'oil_imports', 'oil_exports',\n",
    "       'oil_net_imports', 'oil_year', 'oil_units', 'oil_net_exports',\n",
    "       'oil_daily_deficit/surplus']"
   ]
  },
  {
   "cell_type": "code",
   "execution_count": 4,
   "metadata": {},
   "outputs": [
    {
     "output_type": "execute_result",
     "data": {
      "text/plain": [
       "                     name energy_consumption_btu world_share pc_yearly_btu  \\\n",
       "0    United Arab Emirates          4667004234000   0.80138%         491926   \n",
       "1                 Ukraine          3632194307000   0.62369%          81645   \n",
       "2              Kazakhstan          3574850089000   0.61385%         197724   \n",
       "3               Singapore          3630377394000   0.62338%         636011   \n",
       "4                   Egypt          4012356526000   0.68897%          41604   \n",
       "..                    ...                    ...         ...           ...   \n",
       "207   Antigua and Barbuda            10605278000   0.00182%         111136   \n",
       "208           South Sudan                    NaN         NaN           NaN   \n",
       "209                 Palau                    NaN         NaN           NaN   \n",
       "210              Anguilla                    NaN         NaN           NaN   \n",
       "211          Saint Helena                    NaN         NaN           NaN   \n",
       "\n",
       "    non_renewable oil_consump gas_consump coal_consump re_nuclear  \\\n",
       "0            100%         39%         59%           2%         0%   \n",
       "1             73%         13%         30%          29%        27%   \n",
       "2             97%         18%         16%          64%         3%   \n",
       "3            100%         86%         13%           0%         0%   \n",
       "4             96%         41%         53%           2%         4%   \n",
       "..            ...         ...         ...          ...        ...   \n",
       "207           97%         97%          0%           0%         3%   \n",
       "208           NaN         NaN         NaN          NaN        NaN   \n",
       "209           NaN         NaN         NaN          NaN        NaN   \n",
       "210           NaN         NaN         NaN          NaN        NaN   \n",
       "211           NaN         NaN         NaN          NaN        NaN   \n",
       "\n",
       "    co2_emissions_tons_2016  ...  oil_reserves oil_production oil_consumption  \\\n",
       "0                 218788684  ...  9.780000e+10      3772788.0        896000.0   \n",
       "1                 233220080  ...  3.950000e+08        55832.0        244000.0   \n",
       "2                 231919540  ...  3.000000e+10      1698280.0        325000.0   \n",
       "3                  48381759  ...  0.000000e+00        42274.0       1357000.0   \n",
       "4                 219377350  ...  4.400000e+09       682904.0        877000.0   \n",
       "..                      ...  ...           ...            ...             ...   \n",
       "207                  438763  ...           NaN            NaN             NaN   \n",
       "208                 4038496  ...           NaN            NaN             NaN   \n",
       "209                   41732  ...           NaN            NaN             NaN   \n",
       "210                   30262  ...           NaN            NaN             NaN   \n",
       "211                   13128  ...           NaN            NaN             NaN   \n",
       "\n",
       "    oil_imports  oil_exports  oil_net_imports  oil_year  oil_units  \\\n",
       "0           0.0    2487580.0              NaN      2016    Barrels   \n",
       "1       12548.0          0.0          12548.0      2016    Barrels   \n",
       "2         469.0    1245575.0              NaN      2016    Barrels   \n",
       "3     1056958.0      27033.0        1029925.0      2016    Barrels   \n",
       "4       70411.0     240295.0              NaN      2016    Barrels   \n",
       "..          ...          ...              ...       ...        ...   \n",
       "207         NaN          NaN              NaN       NaN        NaN   \n",
       "208         NaN          NaN              NaN       NaN        NaN   \n",
       "209         NaN          NaN              NaN       NaN        NaN   \n",
       "210         NaN          NaN              NaN       NaN        NaN   \n",
       "211         NaN          NaN              NaN       NaN        NaN   \n",
       "\n",
       "     oil_net_exports  oil_daily_deficit/surplus  \n",
       "0          2487580.0                  2876788.0  \n",
       "1                NaN                  -188168.0  \n",
       "2          1245106.0                  1373280.0  \n",
       "3                NaN                 -1314726.0  \n",
       "4           169884.0                  -194096.0  \n",
       "..               ...                        ...  \n",
       "207              NaN                        NaN  \n",
       "208              NaN                        NaN  \n",
       "209              NaN                        NaN  \n",
       "210              NaN                        NaN  \n",
       "211              NaN                        NaN  \n",
       "\n",
       "[212 rows x 44 columns]"
      ],
      "text/html": "<div>\n<style scoped>\n    .dataframe tbody tr th:only-of-type {\n        vertical-align: middle;\n    }\n\n    .dataframe tbody tr th {\n        vertical-align: top;\n    }\n\n    .dataframe thead th {\n        text-align: right;\n    }\n</style>\n<table border=\"1\" class=\"dataframe\">\n  <thead>\n    <tr style=\"text-align: right;\">\n      <th></th>\n      <th>name</th>\n      <th>energy_consumption_btu</th>\n      <th>world_share</th>\n      <th>pc_yearly_btu</th>\n      <th>non_renewable</th>\n      <th>oil_consump</th>\n      <th>gas_consump</th>\n      <th>coal_consump</th>\n      <th>re_nuclear</th>\n      <th>co2_emissions_tons_2016</th>\n      <th>...</th>\n      <th>oil_reserves</th>\n      <th>oil_production</th>\n      <th>oil_consumption</th>\n      <th>oil_imports</th>\n      <th>oil_exports</th>\n      <th>oil_net_imports</th>\n      <th>oil_year</th>\n      <th>oil_units</th>\n      <th>oil_net_exports</th>\n      <th>oil_daily_deficit/surplus</th>\n    </tr>\n  </thead>\n  <tbody>\n    <tr>\n      <th>0</th>\n      <td>United Arab Emirates</td>\n      <td>4667004234000</td>\n      <td>0.80138%</td>\n      <td>491926</td>\n      <td>100%</td>\n      <td>39%</td>\n      <td>59%</td>\n      <td>2%</td>\n      <td>0%</td>\n      <td>218788684</td>\n      <td>...</td>\n      <td>9.780000e+10</td>\n      <td>3772788.0</td>\n      <td>896000.0</td>\n      <td>0.0</td>\n      <td>2487580.0</td>\n      <td>NaN</td>\n      <td>2016</td>\n      <td>Barrels</td>\n      <td>2487580.0</td>\n      <td>2876788.0</td>\n    </tr>\n    <tr>\n      <th>1</th>\n      <td>Ukraine</td>\n      <td>3632194307000</td>\n      <td>0.62369%</td>\n      <td>81645</td>\n      <td>73%</td>\n      <td>13%</td>\n      <td>30%</td>\n      <td>29%</td>\n      <td>27%</td>\n      <td>233220080</td>\n      <td>...</td>\n      <td>3.950000e+08</td>\n      <td>55832.0</td>\n      <td>244000.0</td>\n      <td>12548.0</td>\n      <td>0.0</td>\n      <td>12548.0</td>\n      <td>2016</td>\n      <td>Barrels</td>\n      <td>NaN</td>\n      <td>-188168.0</td>\n    </tr>\n    <tr>\n      <th>2</th>\n      <td>Kazakhstan</td>\n      <td>3574850089000</td>\n      <td>0.61385%</td>\n      <td>197724</td>\n      <td>97%</td>\n      <td>18%</td>\n      <td>16%</td>\n      <td>64%</td>\n      <td>3%</td>\n      <td>231919540</td>\n      <td>...</td>\n      <td>3.000000e+10</td>\n      <td>1698280.0</td>\n      <td>325000.0</td>\n      <td>469.0</td>\n      <td>1245575.0</td>\n      <td>NaN</td>\n      <td>2016</td>\n      <td>Barrels</td>\n      <td>1245106.0</td>\n      <td>1373280.0</td>\n    </tr>\n    <tr>\n      <th>3</th>\n      <td>Singapore</td>\n      <td>3630377394000</td>\n      <td>0.62338%</td>\n      <td>636011</td>\n      <td>100%</td>\n      <td>86%</td>\n      <td>13%</td>\n      <td>0%</td>\n      <td>0%</td>\n      <td>48381759</td>\n      <td>...</td>\n      <td>0.000000e+00</td>\n      <td>42274.0</td>\n      <td>1357000.0</td>\n      <td>1056958.0</td>\n      <td>27033.0</td>\n      <td>1029925.0</td>\n      <td>2016</td>\n      <td>Barrels</td>\n      <td>NaN</td>\n      <td>-1314726.0</td>\n    </tr>\n    <tr>\n      <th>4</th>\n      <td>Egypt</td>\n      <td>4012356526000</td>\n      <td>0.68897%</td>\n      <td>41604</td>\n      <td>96%</td>\n      <td>41%</td>\n      <td>53%</td>\n      <td>2%</td>\n      <td>4%</td>\n      <td>219377350</td>\n      <td>...</td>\n      <td>4.400000e+09</td>\n      <td>682904.0</td>\n      <td>877000.0</td>\n      <td>70411.0</td>\n      <td>240295.0</td>\n      <td>NaN</td>\n      <td>2016</td>\n      <td>Barrels</td>\n      <td>169884.0</td>\n      <td>-194096.0</td>\n    </tr>\n    <tr>\n      <th>...</th>\n      <td>...</td>\n      <td>...</td>\n      <td>...</td>\n      <td>...</td>\n      <td>...</td>\n      <td>...</td>\n      <td>...</td>\n      <td>...</td>\n      <td>...</td>\n      <td>...</td>\n      <td>...</td>\n      <td>...</td>\n      <td>...</td>\n      <td>...</td>\n      <td>...</td>\n      <td>...</td>\n      <td>...</td>\n      <td>...</td>\n      <td>...</td>\n      <td>...</td>\n      <td>...</td>\n    </tr>\n    <tr>\n      <th>207</th>\n      <td>Antigua and Barbuda</td>\n      <td>10605278000</td>\n      <td>0.00182%</td>\n      <td>111136</td>\n      <td>97%</td>\n      <td>97%</td>\n      <td>0%</td>\n      <td>0%</td>\n      <td>3%</td>\n      <td>438763</td>\n      <td>...</td>\n      <td>NaN</td>\n      <td>NaN</td>\n      <td>NaN</td>\n      <td>NaN</td>\n      <td>NaN</td>\n      <td>NaN</td>\n      <td>NaN</td>\n      <td>NaN</td>\n      <td>NaN</td>\n      <td>NaN</td>\n    </tr>\n    <tr>\n      <th>208</th>\n      <td>South Sudan</td>\n      <td>NaN</td>\n      <td>NaN</td>\n      <td>NaN</td>\n      <td>NaN</td>\n      <td>NaN</td>\n      <td>NaN</td>\n      <td>NaN</td>\n      <td>NaN</td>\n      <td>4038496</td>\n      <td>...</td>\n      <td>NaN</td>\n      <td>NaN</td>\n      <td>NaN</td>\n      <td>NaN</td>\n      <td>NaN</td>\n      <td>NaN</td>\n      <td>NaN</td>\n      <td>NaN</td>\n      <td>NaN</td>\n      <td>NaN</td>\n    </tr>\n    <tr>\n      <th>209</th>\n      <td>Palau</td>\n      <td>NaN</td>\n      <td>NaN</td>\n      <td>NaN</td>\n      <td>NaN</td>\n      <td>NaN</td>\n      <td>NaN</td>\n      <td>NaN</td>\n      <td>NaN</td>\n      <td>41732</td>\n      <td>...</td>\n      <td>NaN</td>\n      <td>NaN</td>\n      <td>NaN</td>\n      <td>NaN</td>\n      <td>NaN</td>\n      <td>NaN</td>\n      <td>NaN</td>\n      <td>NaN</td>\n      <td>NaN</td>\n      <td>NaN</td>\n    </tr>\n    <tr>\n      <th>210</th>\n      <td>Anguilla</td>\n      <td>NaN</td>\n      <td>NaN</td>\n      <td>NaN</td>\n      <td>NaN</td>\n      <td>NaN</td>\n      <td>NaN</td>\n      <td>NaN</td>\n      <td>NaN</td>\n      <td>30262</td>\n      <td>...</td>\n      <td>NaN</td>\n      <td>NaN</td>\n      <td>NaN</td>\n      <td>NaN</td>\n      <td>NaN</td>\n      <td>NaN</td>\n      <td>NaN</td>\n      <td>NaN</td>\n      <td>NaN</td>\n      <td>NaN</td>\n    </tr>\n    <tr>\n      <th>211</th>\n      <td>Saint Helena</td>\n      <td>NaN</td>\n      <td>NaN</td>\n      <td>NaN</td>\n      <td>NaN</td>\n      <td>NaN</td>\n      <td>NaN</td>\n      <td>NaN</td>\n      <td>NaN</td>\n      <td>13128</td>\n      <td>...</td>\n      <td>NaN</td>\n      <td>NaN</td>\n      <td>NaN</td>\n      <td>NaN</td>\n      <td>NaN</td>\n      <td>NaN</td>\n      <td>NaN</td>\n      <td>NaN</td>\n      <td>NaN</td>\n      <td>NaN</td>\n    </tr>\n  </tbody>\n</table>\n<p>212 rows × 44 columns</p>\n</div>"
     },
     "metadata": {},
     "execution_count": 4
    }
   ],
   "source": [
    "df_merged[column_names]"
   ]
  },
  {
   "source": [
    "df_merged[column_names].to_csv('worldometers_energy.csv', index=False)"
   ],
   "cell_type": "code",
   "metadata": {},
   "execution_count": 19,
   "outputs": []
  }
 ]
}