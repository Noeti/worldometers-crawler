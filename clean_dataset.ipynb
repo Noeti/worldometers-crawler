{
 "metadata": {
  "language_info": {
   "codemirror_mode": {
    "name": "ipython",
    "version": 3
   },
   "file_extension": ".py",
   "mimetype": "text/x-python",
   "name": "python",
   "nbconvert_exporter": "python",
   "pygments_lexer": "ipython3",
   "version": "3.7.10"
  },
  "orig_nbformat": 4,
  "kernelspec": {
   "name": "python3",
   "display_name": "Python 3.7.10 64-bit ('virtual_workspace': conda)"
  },
  "interpreter": {
   "hash": "8eed2500a39ed8f0c1a9fed7dce8b63333725dad2e0135797efc1f4896ca33d3"
  }
 },
 "nbformat": 4,
 "nbformat_minor": 2,
 "cells": [
  {
   "cell_type": "code",
   "execution_count": 1,
   "metadata": {},
   "outputs": [],
   "source": [
    "import os\n",
    "import json\n",
    "import pandas as pd\n",
    "from functools import reduce"
   ]
  },
  {
   "cell_type": "code",
   "execution_count": 36,
   "metadata": {},
   "outputs": [],
   "source": [
    "def unpack_dict(data):\n",
    "    L = []\n",
    "    for x in data:\n",
    "        d = {}\n",
    "        for k,v in x.items():\n",
    "            if k == 'values':\n",
    "                for k2,v2 in v.items():\n",
    "                    d[k2] = v2\n",
    "            else:\n",
    "                d[k] = v    \n",
    "        L.append(d)\n",
    "    return L\n",
    "\n",
    "if __name__ == '__main__':\n",
    "    path = os.getcwd()\n",
    "    frames =[]\n",
    "    for files in os.listdir(path):\n",
    "        if '.json' in files:\n",
    "            with open(path + '/' + files) as json_data:\n",
    "                data = json.load(json_data)\n",
    "                if 'energy' in files:\n",
    "                    df = pd.DataFrame(data)\n",
    "                    frames.append(df)\n",
    "                else:\n",
    "                    df = pd.DataFrame(unpack_dict(data))\n",
    "                    col_names = [col_name for col_name in df.columns if col_name not in ['name', 'units', 'year']]\n",
    "                    df[col_names] = df[col_names].apply(pd.to_numeric, errors='coerce')\n",
    "                    new_col_name = f'{files.split(\"_\")[0]}_{df.filter(regex=\"(deficit$)\",axis=1).columns[0]}/surplus'\n",
    "                    deficit = df.filter(regex='(deficit$)',axis=1).columns[0]\n",
    "                    surplus = df.filter(regex='(surplus$)+',axis=1).columns[0]\n",
    "                    df[new_col_name] = df[[deficit, surplus]].sum(axis=1)\n",
    "                    df.drop([deficit, surplus], axis = 1, inplace=True)\n",
    "                    df = df.rename(columns = { col : files.split(\"_\")[0] + '_' + col for col in ['net_imports', 'year', 'units', 'net_exports']})\n",
    "                    frames.append(df)\n",
    "\n",
    "    df_merged = reduce(lambda  left,right: pd.merge(left,right,on=['name'],\n",
    "                                                how='outer'), frames)\n"
   ]
  },
  {
   "cell_type": "code",
   "execution_count": 37,
   "metadata": {},
   "outputs": [
    {
     "output_type": "execute_result",
     "data": {
      "text/plain": [
       "                     name  gas_reserves  gas_production  gas_consumption  \\\n",
       "0    United Arab Emirates  2.150980e+08       3178738.0        2621819.0   \n",
       "1                 Ukraine  3.900000e+07        670985.0        1171928.0   \n",
       "2              Kazakhstan  8.500000e+07       1515014.0         480637.0   \n",
       "3               Singapore  0.000000e+00             0.0         428018.0   \n",
       "4                   Egypt  7.720000e+07       1742018.0        1692930.0   \n",
       "..                    ...           ...             ...              ...   \n",
       "203                 India  5.039800e+07       1133364.0        1753143.0   \n",
       "204                Russia  1.688228e+09      22728734.0       15538247.0   \n",
       "205         United States  3.687040e+08      32914647.0       27243858.0   \n",
       "206            Madagascar           NaN             NaN              NaN   \n",
       "207   Antigua and Barbuda           NaN             NaN              NaN   \n",
       "\n",
       "     gas_imports  gas_exports  gas_net_imports gas_year         gas_units  \\\n",
       "0       769972.0     273903.0         496069.0     2015  Million Cubic Ft   \n",
       "1       500943.0          0.0         500943.0     2015  Million Cubic Ft   \n",
       "2       165981.0     434021.0              NaN     2015  Million Cubic Ft   \n",
       "3       436847.0       8829.0         428018.0     2015  Million Cubic Ft   \n",
       "4       127487.0          0.0         127487.0     2015  Million Cubic Ft   \n",
       "..           ...          ...              ...      ...               ...   \n",
       "203     659331.0       9535.0         649796.0     2015  Million Cubic Ft   \n",
       "204     557977.0    6550933.0              NaN     2015  Million Cubic Ft   \n",
       "205    2718094.0    1783512.0         934582.0     2015  Million Cubic Ft   \n",
       "206          NaN          NaN              NaN      NaN               NaN   \n",
       "207          NaN          NaN              NaN      NaN               NaN   \n",
       "\n",
       "     gas_net_exports  ...  coal_reserves  coal_production  coal_consumption  \\\n",
       "0                NaN  ...   0.000000e+00              0.0         2454173.0   \n",
       "1                NaN  ...   3.789191e+10       39260975.0        59357189.0   \n",
       "2           268041.0  ...   2.822465e+10      113619501.0        86633850.0   \n",
       "3                NaN  ...   0.000000e+00              0.0          761679.0   \n",
       "4                NaN  ...   1.763696e+07              0.0          769412.0   \n",
       "..               ...  ...            ...              ...               ...   \n",
       "203              NaN  ...   1.077266e+11      761662038.0       966288693.0   \n",
       "204        5992956.0  ...   1.767708e+11      423095348.0       230392143.0   \n",
       "205              NaN  ...   2.541970e+11      728364498.0       731071000.0   \n",
       "206              NaN  ...   0.000000e+00              0.0          566337.0   \n",
       "207              NaN  ...            NaN              NaN               NaN   \n",
       "\n",
       "     coal_imports  coal_exports  coal_net_imports  coal_year coal_units  \\\n",
       "0       2726156.0       13779.0         2712376.0       2016      Tons    \n",
       "1      17248947.0     2251110.0        14997837.0       2016      Tons    \n",
       "2           391.0     4273196.0               NaN       2016      Tons    \n",
       "3        761747.0          68.0          761679.0       2016      Tons    \n",
       "4       3337265.0       95121.0         3242144.0       2016      Tons    \n",
       "..            ...           ...               ...        ...        ...   \n",
       "203   215789801.0     1018312.0       214771489.0       2016      Tons    \n",
       "204    24331105.0   181506237.0               NaN       2016      Tons    \n",
       "205     9849735.0    60271017.0               NaN       2016      Tons    \n",
       "206      552763.0           0.0          552763.0       2016      Tons    \n",
       "207           NaN           NaN               NaN        NaN        NaN   \n",
       "\n",
       "    coal_net_exports  coal_yearly_deficit/surplus  \n",
       "0                NaN                   -2454173.0  \n",
       "1                NaN                  -20096214.0  \n",
       "2          4272805.0                   26985651.0  \n",
       "3                NaN                    -761679.0  \n",
       "4                NaN                    -769412.0  \n",
       "..               ...                          ...  \n",
       "203              NaN                 -204626654.0  \n",
       "204      157175131.0                  192703205.0  \n",
       "205       50421282.0                   -2706502.0  \n",
       "206              NaN                    -566337.0  \n",
       "207              NaN                          NaN  \n",
       "\n",
       "[208 rows x 39 columns]"
      ],
      "text/html": "<div>\n<style scoped>\n    .dataframe tbody tr th:only-of-type {\n        vertical-align: middle;\n    }\n\n    .dataframe tbody tr th {\n        vertical-align: top;\n    }\n\n    .dataframe thead th {\n        text-align: right;\n    }\n</style>\n<table border=\"1\" class=\"dataframe\">\n  <thead>\n    <tr style=\"text-align: right;\">\n      <th></th>\n      <th>name</th>\n      <th>gas_reserves</th>\n      <th>gas_production</th>\n      <th>gas_consumption</th>\n      <th>gas_imports</th>\n      <th>gas_exports</th>\n      <th>gas_net_imports</th>\n      <th>gas_year</th>\n      <th>gas_units</th>\n      <th>gas_net_exports</th>\n      <th>...</th>\n      <th>coal_reserves</th>\n      <th>coal_production</th>\n      <th>coal_consumption</th>\n      <th>coal_imports</th>\n      <th>coal_exports</th>\n      <th>coal_net_imports</th>\n      <th>coal_year</th>\n      <th>coal_units</th>\n      <th>coal_net_exports</th>\n      <th>coal_yearly_deficit/surplus</th>\n    </tr>\n  </thead>\n  <tbody>\n    <tr>\n      <th>0</th>\n      <td>United Arab Emirates</td>\n      <td>2.150980e+08</td>\n      <td>3178738.0</td>\n      <td>2621819.0</td>\n      <td>769972.0</td>\n      <td>273903.0</td>\n      <td>496069.0</td>\n      <td>2015</td>\n      <td>Million Cubic Ft</td>\n      <td>NaN</td>\n      <td>...</td>\n      <td>0.000000e+00</td>\n      <td>0.0</td>\n      <td>2454173.0</td>\n      <td>2726156.0</td>\n      <td>13779.0</td>\n      <td>2712376.0</td>\n      <td>2016</td>\n      <td>Tons</td>\n      <td>NaN</td>\n      <td>-2454173.0</td>\n    </tr>\n    <tr>\n      <th>1</th>\n      <td>Ukraine</td>\n      <td>3.900000e+07</td>\n      <td>670985.0</td>\n      <td>1171928.0</td>\n      <td>500943.0</td>\n      <td>0.0</td>\n      <td>500943.0</td>\n      <td>2015</td>\n      <td>Million Cubic Ft</td>\n      <td>NaN</td>\n      <td>...</td>\n      <td>3.789191e+10</td>\n      <td>39260975.0</td>\n      <td>59357189.0</td>\n      <td>17248947.0</td>\n      <td>2251110.0</td>\n      <td>14997837.0</td>\n      <td>2016</td>\n      <td>Tons</td>\n      <td>NaN</td>\n      <td>-20096214.0</td>\n    </tr>\n    <tr>\n      <th>2</th>\n      <td>Kazakhstan</td>\n      <td>8.500000e+07</td>\n      <td>1515014.0</td>\n      <td>480637.0</td>\n      <td>165981.0</td>\n      <td>434021.0</td>\n      <td>NaN</td>\n      <td>2015</td>\n      <td>Million Cubic Ft</td>\n      <td>268041.0</td>\n      <td>...</td>\n      <td>2.822465e+10</td>\n      <td>113619501.0</td>\n      <td>86633850.0</td>\n      <td>391.0</td>\n      <td>4273196.0</td>\n      <td>NaN</td>\n      <td>2016</td>\n      <td>Tons</td>\n      <td>4272805.0</td>\n      <td>26985651.0</td>\n    </tr>\n    <tr>\n      <th>3</th>\n      <td>Singapore</td>\n      <td>0.000000e+00</td>\n      <td>0.0</td>\n      <td>428018.0</td>\n      <td>436847.0</td>\n      <td>8829.0</td>\n      <td>428018.0</td>\n      <td>2015</td>\n      <td>Million Cubic Ft</td>\n      <td>NaN</td>\n      <td>...</td>\n      <td>0.000000e+00</td>\n      <td>0.0</td>\n      <td>761679.0</td>\n      <td>761747.0</td>\n      <td>68.0</td>\n      <td>761679.0</td>\n      <td>2016</td>\n      <td>Tons</td>\n      <td>NaN</td>\n      <td>-761679.0</td>\n    </tr>\n    <tr>\n      <th>4</th>\n      <td>Egypt</td>\n      <td>7.720000e+07</td>\n      <td>1742018.0</td>\n      <td>1692930.0</td>\n      <td>127487.0</td>\n      <td>0.0</td>\n      <td>127487.0</td>\n      <td>2015</td>\n      <td>Million Cubic Ft</td>\n      <td>NaN</td>\n      <td>...</td>\n      <td>1.763696e+07</td>\n      <td>0.0</td>\n      <td>769412.0</td>\n      <td>3337265.0</td>\n      <td>95121.0</td>\n      <td>3242144.0</td>\n      <td>2016</td>\n      <td>Tons</td>\n      <td>NaN</td>\n      <td>-769412.0</td>\n    </tr>\n    <tr>\n      <th>...</th>\n      <td>...</td>\n      <td>...</td>\n      <td>...</td>\n      <td>...</td>\n      <td>...</td>\n      <td>...</td>\n      <td>...</td>\n      <td>...</td>\n      <td>...</td>\n      <td>...</td>\n      <td>...</td>\n      <td>...</td>\n      <td>...</td>\n      <td>...</td>\n      <td>...</td>\n      <td>...</td>\n      <td>...</td>\n      <td>...</td>\n      <td>...</td>\n      <td>...</td>\n      <td>...</td>\n    </tr>\n    <tr>\n      <th>203</th>\n      <td>India</td>\n      <td>5.039800e+07</td>\n      <td>1133364.0</td>\n      <td>1753143.0</td>\n      <td>659331.0</td>\n      <td>9535.0</td>\n      <td>649796.0</td>\n      <td>2015</td>\n      <td>Million Cubic Ft</td>\n      <td>NaN</td>\n      <td>...</td>\n      <td>1.077266e+11</td>\n      <td>761662038.0</td>\n      <td>966288693.0</td>\n      <td>215789801.0</td>\n      <td>1018312.0</td>\n      <td>214771489.0</td>\n      <td>2016</td>\n      <td>Tons</td>\n      <td>NaN</td>\n      <td>-204626654.0</td>\n    </tr>\n    <tr>\n      <th>204</th>\n      <td>Russia</td>\n      <td>1.688228e+09</td>\n      <td>22728734.0</td>\n      <td>15538247.0</td>\n      <td>557977.0</td>\n      <td>6550933.0</td>\n      <td>NaN</td>\n      <td>2015</td>\n      <td>Million Cubic Ft</td>\n      <td>5992956.0</td>\n      <td>...</td>\n      <td>1.767708e+11</td>\n      <td>423095348.0</td>\n      <td>230392143.0</td>\n      <td>24331105.0</td>\n      <td>181506237.0</td>\n      <td>NaN</td>\n      <td>2016</td>\n      <td>Tons</td>\n      <td>157175131.0</td>\n      <td>192703205.0</td>\n    </tr>\n    <tr>\n      <th>205</th>\n      <td>United States</td>\n      <td>3.687040e+08</td>\n      <td>32914647.0</td>\n      <td>27243858.0</td>\n      <td>2718094.0</td>\n      <td>1783512.0</td>\n      <td>934582.0</td>\n      <td>2015</td>\n      <td>Million Cubic Ft</td>\n      <td>NaN</td>\n      <td>...</td>\n      <td>2.541970e+11</td>\n      <td>728364498.0</td>\n      <td>731071000.0</td>\n      <td>9849735.0</td>\n      <td>60271017.0</td>\n      <td>NaN</td>\n      <td>2016</td>\n      <td>Tons</td>\n      <td>50421282.0</td>\n      <td>-2706502.0</td>\n    </tr>\n    <tr>\n      <th>206</th>\n      <td>Madagascar</td>\n      <td>NaN</td>\n      <td>NaN</td>\n      <td>NaN</td>\n      <td>NaN</td>\n      <td>NaN</td>\n      <td>NaN</td>\n      <td>NaN</td>\n      <td>NaN</td>\n      <td>NaN</td>\n      <td>...</td>\n      <td>0.000000e+00</td>\n      <td>0.0</td>\n      <td>566337.0</td>\n      <td>552763.0</td>\n      <td>0.0</td>\n      <td>552763.0</td>\n      <td>2016</td>\n      <td>Tons</td>\n      <td>NaN</td>\n      <td>-566337.0</td>\n    </tr>\n    <tr>\n      <th>207</th>\n      <td>Antigua and Barbuda</td>\n      <td>NaN</td>\n      <td>NaN</td>\n      <td>NaN</td>\n      <td>NaN</td>\n      <td>NaN</td>\n      <td>NaN</td>\n      <td>NaN</td>\n      <td>NaN</td>\n      <td>NaN</td>\n      <td>...</td>\n      <td>NaN</td>\n      <td>NaN</td>\n      <td>NaN</td>\n      <td>NaN</td>\n      <td>NaN</td>\n      <td>NaN</td>\n      <td>NaN</td>\n      <td>NaN</td>\n      <td>NaN</td>\n      <td>NaN</td>\n    </tr>\n  </tbody>\n</table>\n<p>208 rows × 39 columns</p>\n</div>"
     },
     "metadata": {},
     "execution_count": 37
    }
   ],
   "source": [
    "df_merged"
   ]
  },
  {
   "source": [
    "df_merged.to_csv('worldometers_energy.csv', index=False)"
   ],
   "cell_type": "code",
   "metadata": {},
   "execution_count": 19,
   "outputs": []
  }
 ]
}